{
 "cells": [
  {
   "cell_type": "markdown",
   "metadata": {},
   "source": [
    "# Classification Problem\n",
    "\n",
    "My main aim is to build a model which helps the user to classify the songs on the basis of genre of a song by using different attributes present in the dataset like bpm, energy, danceability, db, live, valence, duration, acousticness, speechiness, popularity and all other attributes.Using the attributes stated I am making a machine learning model which helps us in predicting the genre of the song.This will make it possible for Spotify to recommend songs to users who are creating genre-based playlists."
   ]
  },
  {
   "cell_type": "markdown",
   "metadata": {},
   "source": [
    "# 1. Packages Used \n",
    "\n",
    "**1.pandas**- to read csv file and working with datasets.\n",
    "**2.numpy**- for manipulating data and performing mathematical operations on the dataset.\n",
    "**3.matplotlib**- for plotting graphs and visualisation of the data.\n",
    "**4.seaborn**- for plotting the corelation matrix in the form a heatmap.\n",
    "**5.sklearn**- library for using different machine learning models to train our models.The models we have used are:\n",
    "**a.Linear reggression b.Support Vector Machine c.Random Forest d.Decision Tree e.Gradient boosting\n",
    "regressor.**\n"
   ]
  },
  {
   "cell_type": "code",
   "execution_count": 1,
   "metadata": {
    "_cell_guid": "b1076dfc-b9ad-4769-8c92-a6c4dae69d19",
    "_uuid": "8f2839f25d086af736a60e9eeb907d3b93b6e0e5",
    "execution": {
     "iopub.execute_input": "2023-02-14T12:43:52.614835Z",
     "iopub.status.busy": "2023-02-14T12:43:52.614367Z",
     "iopub.status.idle": "2023-02-14T12:43:52.625447Z",
     "shell.execute_reply": "2023-02-14T12:43:52.623418Z",
     "shell.execute_reply.started": "2023-02-14T12:43:52.614796Z"
    },
    "id": "7QUU8xIgvObS"
   },
   "outputs": [],
   "source": [
    "import numpy as np \n",
    "import pandas as pd\n",
    "import seaborn as sns\n",
    "import matplotlib.pyplot as plt\n",
    "from sklearn.preprocessing import StandardScaler\n",
    "from sklearn.preprocessing import LabelEncoder\n",
    "from sklearn.model_selection import train_test_split\n",
    "from sklearn.linear_model import LogisticRegression\n",
    "from sklearn import metrics\n",
    "from sklearn.preprocessing import StandardScaler\n",
    "from sklearn.metrics import accuracy_score, precision_score, recall_score, f1_score\n",
    "from sklearn.tree import DecisionTreeClassifier\n",
    "from sklearn.ensemble import RandomForestClassifier\n",
    "from sklearn.ensemble import VotingClassifier\n",
    "from sklearn.metrics import confusion_matrix, classification_report"
   ]
  },
  {
   "cell_type": "markdown",
   "metadata": {
    "id": "3VisTlwIvOba"
   },
   "source": [
    "**Load the Dataset**"
   ]
  },
  {
   "cell_type": "code",
   "execution_count": 2,
   "metadata": {
    "execution": {
     "iopub.execute_input": "2023-02-14T12:43:52.628999Z",
     "iopub.status.busy": "2023-02-14T12:43:52.628099Z",
     "iopub.status.idle": "2023-02-14T12:43:52.644583Z",
     "shell.execute_reply": "2023-02-14T12:43:52.642876Z",
     "shell.execute_reply.started": "2023-02-14T12:43:52.628944Z"
    },
    "id": "UJGEkHhivObh"
   },
   "outputs": [],
   "source": [
    "song_train_data=pd.read_csv(\"CS98XClassificationTrain.csv\")"
   ]
  },
  {
   "cell_type": "markdown",
   "metadata": {
    "id": "m13zeB2gvObj"
   },
   "source": [
    "# 2.Exploratory and preprocessing of the data\n",
    "\n",
    "Here, we looked at the raw form of the data. This is useful for examining the dataset's fundamental format. After reviewing the data, we sanitise it to improve model performance and accuracy. We must first obtain the data structure of the dataset Following we will search the dataset for duplicate and null values and eliminate any rows that have these values."
   ]
  },
  {
   "cell_type": "code",
   "execution_count": 3,
   "metadata": {
    "_kg_hide-input": false,
    "colab": {
     "base_uri": "https://localhost:8080/",
     "height": 206
    },
    "execution": {
     "iopub.execute_input": "2023-02-14T12:43:52.664307Z",
     "iopub.status.busy": "2023-02-14T12:43:52.663754Z",
     "iopub.status.idle": "2023-02-14T12:43:52.685966Z",
     "shell.execute_reply": "2023-02-14T12:43:52.684481Z",
     "shell.execute_reply.started": "2023-02-14T12:43:52.664257Z"
    },
    "executionInfo": {
     "elapsed": 214,
     "status": "ok",
     "timestamp": 1676851531662,
     "user": {
      "displayName": "ABHISHEK ABHI",
      "userId": "09081140127296701179"
     },
     "user_tz": 0
    },
    "id": "oU9OU6wMvObk",
    "outputId": "78792ff2-83fe-47ef-9085-31951fb50727"
   },
   "outputs": [
    {
     "data": {
      "text/html": [
       "<div>\n",
       "<style scoped>\n",
       "    .dataframe tbody tr th:only-of-type {\n",
       "        vertical-align: middle;\n",
       "    }\n",
       "\n",
       "    .dataframe tbody tr th {\n",
       "        vertical-align: top;\n",
       "    }\n",
       "\n",
       "    .dataframe thead th {\n",
       "        text-align: right;\n",
       "    }\n",
       "</style>\n",
       "<table border=\"1\" class=\"dataframe\">\n",
       "  <thead>\n",
       "    <tr style=\"text-align: right;\">\n",
       "      <th></th>\n",
       "      <th>Id</th>\n",
       "      <th>title</th>\n",
       "      <th>artist</th>\n",
       "      <th>year</th>\n",
       "      <th>bpm</th>\n",
       "      <th>nrgy</th>\n",
       "      <th>dnce</th>\n",
       "      <th>dB</th>\n",
       "      <th>live</th>\n",
       "      <th>val</th>\n",
       "      <th>dur</th>\n",
       "      <th>acous</th>\n",
       "      <th>spch</th>\n",
       "      <th>pop</th>\n",
       "      <th>top genre</th>\n",
       "    </tr>\n",
       "  </thead>\n",
       "  <tbody>\n",
       "    <tr>\n",
       "      <th>0</th>\n",
       "      <td>1</td>\n",
       "      <td>My Happiness</td>\n",
       "      <td>Connie Francis</td>\n",
       "      <td>1996</td>\n",
       "      <td>107</td>\n",
       "      <td>31</td>\n",
       "      <td>45</td>\n",
       "      <td>-8</td>\n",
       "      <td>13</td>\n",
       "      <td>28</td>\n",
       "      <td>150</td>\n",
       "      <td>75</td>\n",
       "      <td>3</td>\n",
       "      <td>44</td>\n",
       "      <td>adult standards</td>\n",
       "    </tr>\n",
       "    <tr>\n",
       "      <th>1</th>\n",
       "      <td>2</td>\n",
       "      <td>Unchained Melody</td>\n",
       "      <td>The Teddy Bears</td>\n",
       "      <td>2011</td>\n",
       "      <td>114</td>\n",
       "      <td>44</td>\n",
       "      <td>53</td>\n",
       "      <td>-8</td>\n",
       "      <td>13</td>\n",
       "      <td>47</td>\n",
       "      <td>139</td>\n",
       "      <td>49</td>\n",
       "      <td>3</td>\n",
       "      <td>37</td>\n",
       "      <td>NaN</td>\n",
       "    </tr>\n",
       "    <tr>\n",
       "      <th>2</th>\n",
       "      <td>3</td>\n",
       "      <td>How Deep Is Your Love</td>\n",
       "      <td>Bee Gees</td>\n",
       "      <td>1979</td>\n",
       "      <td>105</td>\n",
       "      <td>36</td>\n",
       "      <td>63</td>\n",
       "      <td>-9</td>\n",
       "      <td>13</td>\n",
       "      <td>67</td>\n",
       "      <td>245</td>\n",
       "      <td>11</td>\n",
       "      <td>3</td>\n",
       "      <td>77</td>\n",
       "      <td>adult standards</td>\n",
       "    </tr>\n",
       "    <tr>\n",
       "      <th>3</th>\n",
       "      <td>4</td>\n",
       "      <td>Woman in Love</td>\n",
       "      <td>Barbra Streisand</td>\n",
       "      <td>1980</td>\n",
       "      <td>170</td>\n",
       "      <td>28</td>\n",
       "      <td>47</td>\n",
       "      <td>-16</td>\n",
       "      <td>13</td>\n",
       "      <td>33</td>\n",
       "      <td>232</td>\n",
       "      <td>25</td>\n",
       "      <td>3</td>\n",
       "      <td>67</td>\n",
       "      <td>adult standards</td>\n",
       "    </tr>\n",
       "    <tr>\n",
       "      <th>4</th>\n",
       "      <td>5</td>\n",
       "      <td>Goodbye Yellow Brick Road - Remastered 2014</td>\n",
       "      <td>Elton John</td>\n",
       "      <td>1973</td>\n",
       "      <td>121</td>\n",
       "      <td>47</td>\n",
       "      <td>56</td>\n",
       "      <td>-8</td>\n",
       "      <td>15</td>\n",
       "      <td>40</td>\n",
       "      <td>193</td>\n",
       "      <td>45</td>\n",
       "      <td>3</td>\n",
       "      <td>63</td>\n",
       "      <td>glam rock</td>\n",
       "    </tr>\n",
       "  </tbody>\n",
       "</table>\n",
       "</div>"
      ],
      "text/plain": [
       "   Id                                        title            artist  year  \\\n",
       "0   1                                 My Happiness    Connie Francis  1996   \n",
       "1   2                             Unchained Melody   The Teddy Bears  2011   \n",
       "2   3                        How Deep Is Your Love          Bee Gees  1979   \n",
       "3   4                                Woman in Love  Barbra Streisand  1980   \n",
       "4   5  Goodbye Yellow Brick Road - Remastered 2014        Elton John  1973   \n",
       "\n",
       "   bpm  nrgy  dnce  dB  live  val  dur  acous  spch  pop        top genre  \n",
       "0  107    31    45  -8    13   28  150     75     3   44  adult standards  \n",
       "1  114    44    53  -8    13   47  139     49     3   37              NaN  \n",
       "2  105    36    63  -9    13   67  245     11     3   77  adult standards  \n",
       "3  170    28    47 -16    13   33  232     25     3   67  adult standards  \n",
       "4  121    47    56  -8    15   40  193     45     3   63        glam rock  "
      ]
     },
     "execution_count": 3,
     "metadata": {},
     "output_type": "execute_result"
    }
   ],
   "source": [
    "song_train_data.head()"
   ]
  },
  {
   "cell_type": "code",
   "execution_count": 4,
   "metadata": {
    "colab": {
     "base_uri": "https://localhost:8080/"
    },
    "executionInfo": {
     "elapsed": 353,
     "status": "ok",
     "timestamp": 1676851534813,
     "user": {
      "displayName": "ABHISHEK ABHI",
      "userId": "09081140127296701179"
     },
     "user_tz": 0
    },
    "id": "f7QgFei4cfWv",
    "outputId": "d34b1715-c514-40f0-b349-ecc32d0bb6b6"
   },
   "outputs": [
    {
     "name": "stdout",
     "output_type": "stream",
     "text": [
      "<class 'pandas.core.frame.DataFrame'>\n",
      "RangeIndex: 453 entries, 0 to 452\n",
      "Data columns (total 15 columns):\n",
      " #   Column     Non-Null Count  Dtype \n",
      "---  ------     --------------  ----- \n",
      " 0   Id         453 non-null    int64 \n",
      " 1   title      453 non-null    object\n",
      " 2   artist     453 non-null    object\n",
      " 3   year       453 non-null    int64 \n",
      " 4   bpm        453 non-null    int64 \n",
      " 5   nrgy       453 non-null    int64 \n",
      " 6   dnce       453 non-null    int64 \n",
      " 7   dB         453 non-null    int64 \n",
      " 8   live       453 non-null    int64 \n",
      " 9   val        453 non-null    int64 \n",
      " 10  dur        453 non-null    int64 \n",
      " 11  acous      453 non-null    int64 \n",
      " 12  spch       453 non-null    int64 \n",
      " 13  pop        453 non-null    int64 \n",
      " 14  top genre  438 non-null    object\n",
      "dtypes: int64(12), object(3)\n",
      "memory usage: 53.2+ KB\n"
     ]
    }
   ],
   "source": [
    "# Looking for the data structure of the dataset\n",
    "song_train_data.info()"
   ]
  },
  {
   "cell_type": "code",
   "execution_count": 5,
   "metadata": {
    "colab": {
     "base_uri": "https://localhost:8080/"
    },
    "execution": {
     "iopub.execute_input": "2023-02-14T12:43:52.740143Z",
     "iopub.status.busy": "2023-02-14T12:43:52.739368Z",
     "iopub.status.idle": "2023-02-14T12:43:52.754894Z",
     "shell.execute_reply": "2023-02-14T12:43:52.753418Z",
     "shell.execute_reply.started": "2023-02-14T12:43:52.740086Z"
    },
    "executionInfo": {
     "elapsed": 270,
     "status": "ok",
     "timestamp": 1676851538485,
     "user": {
      "displayName": "ABHISHEK ABHI",
      "userId": "09081140127296701179"
     },
     "user_tz": 0
    },
    "id": "IQpV-GSGvObt",
    "outputId": "b06d034a-ef27-445b-de6f-6e5af6098b6e"
   },
   "outputs": [
    {
     "data": {
      "text/plain": [
       "Id            0\n",
       "title         0\n",
       "artist        0\n",
       "year          0\n",
       "bpm           0\n",
       "nrgy          0\n",
       "dnce          0\n",
       "dB            0\n",
       "live          0\n",
       "val           0\n",
       "dur           0\n",
       "acous         0\n",
       "spch          0\n",
       "pop           0\n",
       "top genre    15\n",
       "dtype: int64"
      ]
     },
     "execution_count": 5,
     "metadata": {},
     "output_type": "execute_result"
    }
   ],
   "source": [
    "# Finding the null values in the each column of the dataset\n",
    "song_train_data.isna().sum()"
   ]
  },
  {
   "cell_type": "markdown",
   "metadata": {
    "id": "TZjKOEl_dNh4"
   },
   "source": [
    "There are total of 453 rows of data in every columns of the song_train_data except the 'top genre' column which has 438 rows of data and 15 rows are missing (Null) value. So we will fill the missing values with mode of top genre column"
   ]
  },
  {
   "cell_type": "code",
   "execution_count": 6,
   "metadata": {
    "id": "23UXkv5GhGuA"
   },
   "outputs": [],
   "source": [
    "song_train_data.fillna(song_train_data['top genre'].mode()[0], inplace=True)"
   ]
  },
  {
   "cell_type": "code",
   "execution_count": 7,
   "metadata": {
    "colab": {
     "base_uri": "https://localhost:8080/",
     "height": 374
    },
    "executionInfo": {
     "elapsed": 615,
     "status": "ok",
     "timestamp": 1676855979838,
     "user": {
      "displayName": "ABHISHEK ABHI",
      "userId": "09081140127296701179"
     },
     "user_tz": 0
    },
    "id": "xqDMBmlGiZp4",
    "outputId": "ab683227-9f2e-488e-d24c-674bf9fc7ada"
   },
   "outputs": [
    {
     "data": {
      "image/png": "[encoded data removed]",
      "text/plain": [
       "<Figure size 720x432 with 1 Axes>"
      ]
     },
     "metadata": {
      "needs_background": "light"
     },
     "output_type": "display_data"
    }
   ],
   "source": [
    "# checking for the outliers\n",
    "plt.figure(figsize=(10,6))\n",
    "song_train_data.boxplot()\n",
    "plt.show()"
   ]
  },
  {
   "cell_type": "markdown",
   "metadata": {
    "id": "lMMWC974juFg"
   },
   "source": [
    "While reviewing the above boxplot we can observe that many outlier are there in the various columns. Outlier is defined as the datapoint that are numerically distinct from the remaining data and located outside of the whisker box plot. So for better performance and accuracy we need to remove the outliers."
   ]
  },
  {
   "cell_type": "code",
   "execution_count": 8,
   "metadata": {
    "id": "Nz4jej2oA_Cx"
   },
   "outputs": [],
   "source": [
    "req_columns=[\"bpm\",\"dB\",\"live\",\"dur\",\"spch\",\"pop\"]"
   ]
  },
  {
   "cell_type": "code",
   "execution_count": 9,
   "metadata": {
    "id": "VSlrNFbaL5s0"
   },
   "outputs": [],
   "source": [
    "def eliminate_outliers(col):\n",
    "    Q1,Q3 = np.percentile(col, [25,75])\n",
    "    IQR = Q3 - Q1\n",
    "    lower_bound =  Q1 - 1.5 * IQR\n",
    "    upper_bound = Q3 + 1.5 *IQR\n",
    "    return lower_bound, upper_bound"
   ]
  },
  {
   "cell_type": "markdown",
   "metadata": {
    "id": "6Rgp1FwmMKY5"
   },
   "source": [
    "I opted to treat the outliers using the IQR approach rather than maintaining them because I saw that it raised the accuracy of our model by 0.3.\n",
    "\n",
    "The IQR approach finds outliers by placing restrictions on sample values that fall below or above the 25th percentile by a factor of k of the IQR. The number 1.5 is a typical value for the constant k."
   ]
  },
  {
   "cell_type": "code",
   "execution_count": 10,
   "metadata": {
    "id": "IhSFY7J-LPvu"
   },
   "outputs": [],
   "source": [
    "for column in req_columns:\n",
    "    lr,ur = eliminate_outliers(song_train_data[column])\n",
    "    song_train_data[column] =np.where(song_train_data[column]>ur, ur, song_train_data[column])\n",
    "    song_train_data[column] =np.where(song_train_data[column]<lr, lr, song_train_data[column])"
   ]
  },
  {
   "cell_type": "markdown",
   "metadata": {
    "id": "3gIfOjMOQzPT"
   },
   "source": [
    "Again check for the outlier in the box plot"
   ]
  },
  {
   "cell_type": "code",
   "execution_count": 11,
   "metadata": {
    "id": "t1at3Db2Q48Y"
   },
   "outputs": [],
   "source": [
    "#plt.figure(figsize=(20,10))\n",
    "#song_train_data.boxplot()\n",
    "#plt.show()"
   ]
  },
  {
   "cell_type": "markdown",
   "metadata": {
    "id": "b7Tso2lFR3pi"
   },
   "source": [
    "Initially, I intended to maintain the artist column because the data would be useful for classifiaction. WI have applied one hot encoding on the \"artist\" column that is categorical column and encoded it. Nevertheless, there was a discrepancy between the train set and test data, so I eliminated the artists from the train data that weren't present in the test data set. I have achieved a higher accuracy with this model, which is 0.695, and an F1 score of 1. Howerver, the csv file this model produced didn't do well in Kaggle. I also made an effort to preserve the \"artist\" by label encoding it. The Kaggle score was significantly lower with this model.\n",
    "\n",
    "So I decided to drop the artist column along with Id and title as they don't offer useful information in terms of predicting genre.\n",
    "\n"
   ]
  },
  {
   "cell_type": "code",
   "execution_count": 12,
   "metadata": {
    "id": "aLt8sx0xRAn3"
   },
   "outputs": [],
   "source": [
    "song_train_data = song_train_data.drop(['Id', \"title\", \"artist\"],axis=1)"
   ]
  },
  {
   "cell_type": "code",
   "execution_count": 13,
   "metadata": {
    "colab": {
     "base_uri": "https://localhost:8080/",
     "height": 852
    },
    "executionInfo": {
     "elapsed": 2804,
     "status": "ok",
     "timestamp": 1676851567914,
     "user": {
      "displayName": "ABHISHEK ABHI",
      "userId": "09081140127296701179"
     },
     "user_tz": 0
    },
    "id": "5mt-mMFfUYRI",
    "outputId": "15078018-7ef0-4faa-f630-708ce9a58fe9"
   },
   "outputs": [
    {
     "data": {
      "image/png": "[encoded data removed]",
      "text/plain": [
       "<Figure size 864x576 with 12 Axes>"
      ]
     },
     "metadata": {
      "needs_background": "light"
     },
     "output_type": "display_data"
    }
   ],
   "source": [
    "# Data visulaisation\n",
    "song_train_data.hist(bins=50,figsize=(12,8))\n",
    "plt.show()"
   ]
  },
  {
   "cell_type": "code",
   "execution_count": 14,
   "metadata": {
    "colab": {
     "base_uri": "https://localhost:8080/",
     "height": 596
    },
    "executionInfo": {
     "elapsed": 1507,
     "status": "ok",
     "timestamp": 1676851573192,
     "user": {
      "displayName": "ABHISHEK ABHI",
      "userId": "09081140127296701179"
     },
     "user_tz": 0
    },
    "id": "r3L8hKLjUm5Y",
    "outputId": "34d99bd3-ed04-487d-8525-fad780f7fdb3"
   },
   "outputs": [
    {
     "data": {
      "image/png": "[encoded data removed]",
      "text/plain": [
       "<Figure size 576x576 with 2 Axes>"
      ]
     },
     "metadata": {
      "needs_background": "light"
     },
     "output_type": "display_data"
    }
   ],
   "source": [
    "# Heatmap \n",
    "plt.figure(figsize=(8,8))\n",
    "sns.heatmap(song_train_data.corr(),annot=True)\n",
    "plt.show()"
   ]
  },
  {
   "cell_type": "markdown",
   "metadata": {
    "id": "F3LwfBOpVOaz"
   },
   "source": [
    "From the above heat map, we observe that there is high positive corelation between loudness(dB) and energy(nrgy) attributes also high negative corelation between energy and acoustic.So for better accuracy we will drop the acous and dB. "
   ]
  },
  {
   "cell_type": "code",
   "execution_count": 15,
   "metadata": {
    "id": "NeXtviy9FA2x"
   },
   "outputs": [],
   "source": [
    "song_train_data=song_train_data.drop(['dB', \"acous\"], axis=1)"
   ]
  },
  {
   "cell_type": "code",
   "execution_count": 16,
   "metadata": {
    "colab": {
     "base_uri": "https://localhost:8080/"
    },
    "executionInfo": {
     "elapsed": 358,
     "status": "ok",
     "timestamp": 1676851579472,
     "user": {
      "displayName": "ABHISHEK ABHI",
      "userId": "09081140127296701179"
     },
     "user_tz": 0
    },
    "id": "p_zLq1_8V_n9",
    "outputId": "237787ff-9e6a-4cb5-d8c1-f2e6e588ee07"
   },
   "outputs": [
    {
     "data": {
      "text/plain": [
       "top genre\n",
       "adult standards       83\n",
       "album rock            66\n",
       "dance pop             61\n",
       "glam rock             16\n",
       "brill building pop    16\n",
       "                      ..\n",
       "canadian folk          1\n",
       "classic danish pop     1\n",
       "classic girl group     1\n",
       "country                1\n",
       "yodeling               1\n",
       "Length: 86, dtype: int64"
      ]
     },
     "execution_count": 16,
     "metadata": {},
     "output_type": "execute_result"
    }
   ],
   "source": [
    "song_train_data.value_counts(\"top genre\")"
   ]
  },
  {
   "cell_type": "markdown",
   "metadata": {
    "id": "V8H-yZQaZRzv"
   },
   "source": [
    "We observe that most songs are from adult standards, album rock, and dance rock genre. \n",
    "\n",
    "**Data Preparation**\n",
    "\n",
    "Label hot encoding"
   ]
  },
  {
   "cell_type": "code",
   "execution_count": 17,
   "metadata": {
    "id": "YT5b2nsWbnF2"
   },
   "outputs": [],
   "source": [
    "le=LabelEncoder()\n",
    "song_train_data['top genre'] = le.fit_transform(song_train_data['top genre'])"
   ]
  },
  {
   "cell_type": "code",
   "execution_count": 18,
   "metadata": {
    "id": "pi-Eat2IcYPW"
   },
   "outputs": [],
   "source": [
    "#song_train_data"
   ]
  },
  {
   "cell_type": "code",
   "execution_count": 19,
   "metadata": {
    "id": "aukzcKAEchOf"
   },
   "outputs": [],
   "source": [
    "# Creating the test set\n",
    "x=song_train_data.drop('top genre',axis=1)\n",
    "y=song_train_data['top genre']\n",
    "# Spliting the data\n",
    "x_train,x_test,y_train,y_test = train_test_split(x,y, test_size = 0.2, random_state = 42)"
   ]
  },
  {
   "cell_type": "markdown",
   "metadata": {
    "id": "vvhIp-nFdMdV"
   },
   "source": [
    "**Scaling the data**"
   ]
  },
  {
   "cell_type": "code",
   "execution_count": 20,
   "metadata": {
    "id": "7Ih7NZBKdHqp"
   },
   "outputs": [],
   "source": [
    "scaler = StandardScaler()\n",
    "scaler.fit(x_train)\n",
    "x_train_ST = scaler.transform(x_train)\n",
    "x_test_ST = scaler.transform(x_test)\n"
   ]
  },
  {
   "cell_type": "markdown",
   "metadata": {
    "id": "fPsypKHXejZE"
   },
   "source": [
    "**Logistic Classification**"
   ]
  },
  {
   "cell_type": "code",
   "execution_count": 21,
   "metadata": {
    "id": "_cy2xz0qeiFT"
   },
   "outputs": [],
   "source": [
    "log_reg=LogisticRegression()\n",
    "log_reg.fit(x_train_ST, y_train)\n",
    "y_predict_lr=log_reg.predict(x_test_ST)\n"
   ]
  },
  {
   "cell_type": "code",
   "execution_count": 22,
   "metadata": {
    "colab": {
     "base_uri": "https://localhost:8080/"
    },
    "executionInfo": {
     "elapsed": 220,
     "status": "ok",
     "timestamp": 1676851629004,
     "user": {
      "displayName": "ABHISHEK ABHI",
      "userId": "09081140127296701179"
     },
     "user_tz": 0
    },
    "id": "o9fkbZX5e_9q",
    "outputId": "1a3cfdfd-dc45-458b-a432-84656bc9fc76"
   },
   "outputs": [
    {
     "name": "stdout",
     "output_type": "stream",
     "text": [
      "0.43956043956043955\n",
      "0.43956043956043955\n",
      "0.43956043956043955\n",
      "0.43956043956043955\n"
     ]
    }
   ],
   "source": [
    "# Model evaluation\n",
    "print(accuracy_score(y_test,y_predict_lr))\n",
    "print(precision_score(y_test,y_predict_lr, average=\"micro\"))\n",
    "print(recall_score(y_test,y_predict_lr, average=\"micro\"))\n",
    "print(f1_score(y_test,y_predict_lr, average=\"micro\"))"
   ]
  },
  {
   "cell_type": "markdown",
   "metadata": {
    "id": "lhEP37ITigNe"
   },
   "source": [
    "Decision Tree"
   ]
  },
  {
   "cell_type": "code",
   "execution_count": 23,
   "metadata": {
    "colab": {
     "base_uri": "https://localhost:8080/"
    },
    "executionInfo": {
     "elapsed": 213,
     "status": "ok",
     "timestamp": 1676851634590,
     "user": {
      "displayName": "ABHISHEK ABHI",
      "userId": "09081140127296701179"
     },
     "user_tz": 0
    },
    "id": "rmxSzrnYdeHg",
    "outputId": "7b8cd07f-2a68-496c-eeeb-98ce0ed7e058"
   },
   "outputs": [
    {
     "data": {
      "text/plain": [
       "0.42857142857142855"
      ]
     },
     "execution_count": 23,
     "metadata": {},
     "output_type": "execute_result"
    }
   ],
   "source": [
    "from sklearn.tree import DecisionTreeClassifier\n",
    "dec_tree_cls= DecisionTreeClassifier(max_depth=5)\n",
    "dec_tree_cls.fit(x_train_ST,y_train)\n",
    "y_pred_dtc = dec_tree_cls.predict(x_test_ST)\n",
    "accuracy_score(y_test,y_pred_dtc)"
   ]
  },
  {
   "cell_type": "markdown",
   "metadata": {
    "id": "O7rseVdoilCy"
   },
   "source": [
    "# Random Forest\n",
    "\n",
    "A random forest is a meta estimator that fits a number of decision tree classifiers on various sub-samples of the dataset and uses averaging to improve the predictive accuracy and control over-fitting. The sub-sample size is controlled with the max_samples parameter if bootstrap=True (default), otherwise the whole dataset is used to build each tree."
   ]
  },
  {
   "cell_type": "code",
   "execution_count": 24,
   "metadata": {
    "colab": {
     "base_uri": "https://localhost:8080/"
    },
    "executionInfo": {
     "elapsed": 561,
     "status": "ok",
     "timestamp": 1676851638881,
     "user": {
      "displayName": "ABHISHEK ABHI",
      "userId": "09081140127296701179"
     },
     "user_tz": 0
    },
    "id": "QQv_VAf8invq",
    "outputId": "df3b1765-d161-45ee-dcd1-6e14b2415390"
   },
   "outputs": [
    {
     "data": {
      "text/plain": [
       "0.4175824175824176"
      ]
     },
     "execution_count": 24,
     "metadata": {},
     "output_type": "execute_result"
    }
   ],
   "source": [
    "rand_forest_cls = RandomForestClassifier(random_state = 1, min_samples_split = 5, criterion='entropy',max_features='log2')\n",
    "rand_forest_cls.fit(x_train_ST,y_train)\n",
    "y_pred_rfc = rand_forest_cls.predict(x_test_ST)\n",
    "accuracy_score(y_test,y_pred_rfc)"
   ]
  },
  {
   "cell_type": "markdown",
   "metadata": {
    "id": "_ft43whQo4M6"
   },
   "source": [
    "**Voting classifier** : It is a machine learning estimator that trains multiple base models or estimators and predicts based on the results of each base estimator."
   ]
  },
  {
   "cell_type": "code",
   "execution_count": 25,
   "metadata": {
    "colab": {
     "base_uri": "https://localhost:8080/"
    },
    "executionInfo": {
     "elapsed": 697,
     "status": "ok",
     "timestamp": 1676851680440,
     "user": {
      "displayName": "ABHISHEK ABHI",
      "userId": "09081140127296701179"
     },
     "user_tz": 0
    },
    "id": "vW70t6Q7o9qL",
    "outputId": "573ea3ae-9e13-4f59-dc1c-560812b52c16"
   },
   "outputs": [
    {
     "data": {
      "text/plain": [
       "VotingClassifier(estimators=[('lr', LogisticRegression()),\n",
       "                             ('dtc', DecisionTreeClassifier(max_depth=5)),\n",
       "                             ('rf',\n",
       "                              RandomForestClassifier(criterion='entropy',\n",
       "                                                     max_features='log2',\n",
       "                                                     min_samples_split=5,\n",
       "                                                     random_state=1))])"
      ]
     },
     "execution_count": 25,
     "metadata": {},
     "output_type": "execute_result"
    }
   ],
   "source": [
    "voting_clf = VotingClassifier(estimators=[('lr', log_reg),('dtc',dec_tree_cls),('rf', rand_forest_cls)],voting='hard')\n",
    "voting_clf.fit(x_train_ST,y_train)"
   ]
  },
  {
   "cell_type": "code",
   "execution_count": 26,
   "metadata": {
    "colab": {
     "base_uri": "https://localhost:8080/"
    },
    "executionInfo": {
     "elapsed": 3081,
     "status": "ok",
     "timestamp": 1676851687900,
     "user": {
      "displayName": "ABHISHEK ABHI",
      "userId": "09081140127296701179"
     },
     "user_tz": 0
    },
    "id": "6TRm0n-ZsnzS",
    "outputId": "aa780e58-5f93-4a67-d953-726722b18615"
   },
   "outputs": [
    {
     "name": "stdout",
     "output_type": "stream",
     "text": [
      "LogisticRegression 0.43956043956043955\n",
      "RandomForestClassifier 0.4175824175824176\n",
      "DecisionTreeClassifier 0.42857142857142855\n",
      "VotingClassifier 0.43956043956043955\n"
     ]
    }
   ],
   "source": [
    "for clf in (log_reg, rand_forest_cls,dec_tree_cls,voting_clf):\n",
    "    clf.fit(x_train_ST, y_train)\n",
    "    ypred = clf.predict(x_test_ST)\n",
    "    print(clf.__class__.__name__, accuracy_score(y_test, ypred))"
   ]
  },
  {
   "cell_type": "markdown",
   "metadata": {
    "id": "4eY9g-PMK8it"
   },
   "source": [
    "Loading the Test Dataset"
   ]
  },
  {
   "cell_type": "code",
   "execution_count": 27,
   "metadata": {
    "colab": {
     "base_uri": "https://localhost:8080/"
    },
    "executionInfo": {
     "elapsed": 274,
     "status": "ok",
     "timestamp": 1676851810282,
     "user": {
      "displayName": "ABHISHEK ABHI",
      "userId": "09081140127296701179"
     },
     "user_tz": 0
    },
    "id": "nAz5_IPMKfrQ",
    "outputId": "9a47b8ab-821f-4d81-bf81-0317fb49860c"
   },
   "outputs": [
    {
     "name": "stdout",
     "output_type": "stream",
     "text": [
      "[[17  0  3 ...  0  0  0]\n",
      " [ 0  0  1 ...  0  0  0]\n",
      " [ 0  0 10 ...  0  0  0]\n",
      " ...\n",
      " [ 0  0  1 ...  0  0  0]\n",
      " [ 0  0  0 ...  0  0  0]\n",
      " [ 0  0  1 ...  0  0  0]]\n"
     ]
    }
   ],
   "source": [
    "song_test_data=pd.read_csv(\"CS98XClassificationTest.csv\")\n",
    "c_matrix = confusion_matrix(y_test,y_predict_lr)\n",
    "print(c_matrix)"
   ]
  },
  {
   "cell_type": "markdown",
   "metadata": {
    "id": "UClHt55CMfCt"
   },
   "source": [
    "We have to remove outlier from the test dataset and will do the same thing as we did in the train dataset."
   ]
  },
  {
   "cell_type": "code",
   "execution_count": 28,
   "metadata": {
    "colab": {
     "base_uri": "https://localhost:8080/",
     "height": 483
    },
    "executionInfo": {
     "elapsed": 632,
     "status": "ok",
     "timestamp": 1676856160317,
     "user": {
      "displayName": "ABHISHEK ABHI",
      "userId": "09081140127296701179"
     },
     "user_tz": 0
    },
    "id": "HySSeFkXMcU4",
    "outputId": "9af9fcfc-e736-4c62-8483-8b20021e50fa"
   },
   "outputs": [
    {
     "data": {
      "image/png": "[encoded data removed]",
      "text/plain": [
       "<Figure size 576x576 with 1 Axes>"
      ]
     },
     "metadata": {
      "needs_background": "light"
     },
     "output_type": "display_data"
    }
   ],
   "source": [
    "plt.figure(figsize=(8,8))\n",
    "song_test_data.boxplot()\n",
    "plt.show()"
   ]
  },
  {
   "cell_type": "code",
   "execution_count": 29,
   "metadata": {
    "id": "yTtg-VbBM8O_"
   },
   "outputs": [],
   "source": [
    "for column in req_columns:\n",
    "    lr,ur = eliminate_outliers(song_test_data[column])\n",
    "    song_test_data[column] =np.where(song_test_data[column]>ur, ur, song_test_data[column])\n",
    "    song_test_data[column] =np.where(song_test_data[column]<lr, lr, song_test_data[column])"
   ]
  },
  {
   "cell_type": "code",
   "execution_count": 30,
   "metadata": {
    "id": "7J9WN2LXPSAH"
   },
   "outputs": [],
   "source": [
    "\n",
    "Id = song_test_data.iloc[:,0].values\n",
    "song_test_data = song_test_data.drop(['Id',\"title\",\"artist\",'dB', \"acous\"], axis=1)"
   ]
  },
  {
   "cell_type": "markdown",
   "metadata": {
    "id": "nlhd9PREPtnc"
   },
   "source": [
    "Scaling the test dataset"
   ]
  },
  {
   "cell_type": "code",
   "execution_count": 31,
   "metadata": {
    "id": "yLB4awwbPsZF"
   },
   "outputs": [],
   "source": [
    "x_test_1 = scaler.transform(song_test_data)"
   ]
  },
  {
   "cell_type": "code",
   "execution_count": 32,
   "metadata": {
    "id": "yNFpsWLwP3Td"
   },
   "outputs": [
    {
     "name": "stderr",
     "output_type": "stream",
     "text": [
      "<ipython-input-32-d496aaaa04ab>:1: UserWarning: Pandas doesn't allow columns to be created via a new attribute name - see https://pandas.pydata.org/pandas-docs/stable/indexing.html#attribute-access\n",
      "  song_test_data.predict=clf.predict(x_test_1)\n"
     ]
    }
   ],
   "source": [
    "song_test_data.predict=clf.predict(x_test_1)\n"
   ]
  },
  {
   "cell_type": "code",
   "execution_count": 33,
   "metadata": {
    "id": "XI4OOGu2QKM_"
   },
   "outputs": [],
   "source": [
    "Result_cls = pd.DataFrame()\n",
    "Result_cls['Id']= Id\n",
    "Result_cls['top genre'] = pd.DataFrame(le.inverse_transform(song_test_data.predict))\n",
    "Result_cls.to_csv('Result_cls.csv', index= False)"
   ]
  },
  {
   "cell_type": "markdown",
   "metadata": {},
   "source": [
    "# Conclusion\n",
    "I have developed 5 models that have given different results on same dataset. Using data exploration and preprocessing and then feature engineering we have observed the correlation of various attributes to the top genre attribute.The best method was the voting classifier with an accuracy score of 0.43956043956043955.The final kaggle score is 0.37500."
   ]
  },
  {
   "cell_type": "markdown",
   "metadata": {},
   "source": [
    "# References\n",
    "\n",
    "[1] Hands-On Machine Learning with Scikit-Learn, Keras, and TensorFlow, 2nd Edition by Aurélien Géron \n",
    "[2] Logistic Regression : https://scikit-learn.org/stable/modules/generated/sklearn.linear_model.LogisticRegression.html\n",
    "[3] Decision Tree : https://scikit-learn.org/stable/modules/generated/sklearn.tree.DecisionTreeClassifier.html\n",
    "[4] Random Forest : https://scikit-learn.org/stable/modules/generated/sklearn.ensemble.RandomForestClassifier.html#:~:text=A%20random%20forest%20classifier.,accuracy%20and%20control%20over%2Dfitting\n",
    "[5] Voting Classifier : https://scikit-learn.org/stable/modules/generated/sklearn.ensemble.VotingClassifier.html"
   ]
  }
 ],
 "metadata": {
  "colab": {
   "provenance": []
  },
  "kernelspec": {
   "display_name": "Python 3",
   "language": "python",
   "name": "python3"
  },
  "language_info": {
   "codemirror_mode": {
    "name": "ipython",
    "version": 3
   },
   "file_extension": ".py",
   "mimetype": "text/x-python",
   "name": "python",
   "nbconvert_exporter": "python",
   "pygments_lexer": "ipython3",
   "version": "3.8.8"
  }
 },
 "nbformat": 4,
 "nbformat_minor": 1
}
